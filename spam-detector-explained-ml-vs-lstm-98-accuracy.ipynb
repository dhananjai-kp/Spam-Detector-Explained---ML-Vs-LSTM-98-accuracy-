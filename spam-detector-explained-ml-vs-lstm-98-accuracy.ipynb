{
 "cells": [
  {
   "cell_type": "markdown",
   "metadata": {
    "papermill": {
     "duration": 0.032603,
     "end_time": "2021-02-13T08:59:23.460171",
     "exception": false,
     "start_time": "2021-02-13T08:59:23.427568",
     "status": "completed"
    },
    "tags": []
   },
   "source": [
    "<h1 style=\"font-size: 30px; margin-left:50px\">SPAM detector</h1>\n",
    "\n",
    "<img src=\"https://gifimage.net/wp-content/uploads/2018/05/spam-gif-6.gif\" style=\"width:20%; float:center;\">\n"
   ]
  },
  {
   "cell_type": "code",
   "execution_count": 1,
   "metadata": {
    "execution": {
     "iopub.execute_input": "2021-02-13T08:59:23.537600Z",
     "iopub.status.busy": "2021-02-13T08:59:23.536782Z",
     "iopub.status.idle": "2021-02-13T08:59:36.681797Z",
     "shell.execute_reply": "2021-02-13T08:59:36.682337Z"
    },
    "papermill": {
     "duration": 13.190832,
     "end_time": "2021-02-13T08:59:36.682668",
     "exception": false,
     "start_time": "2021-02-13T08:59:23.491836",
     "status": "completed"
    },
    "tags": []
   },
   "outputs": [
    {
     "name": "stdout",
     "output_type": "stream",
     "text": [
      "[nltk_data] Downloading package stopwords to /usr/share/nltk_data...\n",
      "[nltk_data]   Package stopwords is already up-to-date!\n"
     ]
    }
   ],
   "source": [
    "# import libraries\n",
    "import numpy as np\n",
    "import pandas as pd\n",
    "import nltk\n",
    "from nltk.corpus import stopwords\n",
    "nltk.download('stopwords')\n",
    "import string\n",
    "from nltk.tokenize import word_tokenize\n",
    "from sklearn.metrics import confusion_matrix\n",
    "\n",
    "import seaborn as sns\n",
    "import matplotlib.pyplot as plt\n",
    "%matplotlib inline\n",
    "\n",
    "from sklearn.naive_bayes import GaussianNB\n",
    "from sklearn.ensemble import AdaBoostClassifier,RandomForestClassifier\n",
    "import xgboost\n",
    "from sklearn import svm,tree\n",
    "from sklearn.neighbors import KNeighborsClassifier\n",
    "from sklearn.metrics import confusion_matrix,classification_report,accuracy_score\n",
    "\n",
    "\n",
    "import tensorflow as tf\n",
    "from keras.preprocessing.text import Tokenizer\n",
    "from keras.preprocessing import sequence\n",
    "from tensorflow.keras.preprocessing.sequence import pad_sequences\n",
    "from tensorflow.keras.layers import Embedding,Input,LSTM,Dense,Bidirectional,Dropout, Activation\n",
    "from keras.models import Model\n",
    "from tensorflow.keras.models import Sequential\n",
    "tf.__version__\n",
    "import warnings\n",
    "warnings.filterwarnings(\"ignore\")\n"
   ]
  },
  {
   "cell_type": "code",
   "execution_count": 2,
   "metadata": {
    "execution": {
     "iopub.execute_input": "2021-02-13T08:59:36.791751Z",
     "iopub.status.busy": "2021-02-13T08:59:36.790568Z",
     "iopub.status.idle": "2021-02-13T08:59:37.073409Z",
     "shell.execute_reply": "2021-02-13T08:59:37.074520Z"
    },
    "papermill": {
     "duration": 0.335258,
     "end_time": "2021-02-13T08:59:37.074780",
     "exception": false,
     "start_time": "2021-02-13T08:59:36.739522",
     "status": "completed"
    },
    "tags": []
   },
   "outputs": [
    {
     "data": {
      "text/html": [
       "<div>\n",
       "<style scoped>\n",
       "    .dataframe tbody tr th:only-of-type {\n",
       "        vertical-align: middle;\n",
       "    }\n",
       "\n",
       "    .dataframe tbody tr th {\n",
       "        vertical-align: top;\n",
       "    }\n",
       "\n",
       "    .dataframe thead th {\n",
       "        text-align: right;\n",
       "    }\n",
       "</style>\n",
       "<table border=\"1\" class=\"dataframe\">\n",
       "  <thead>\n",
       "    <tr style=\"text-align: right;\">\n",
       "      <th></th>\n",
       "      <th>text</th>\n",
       "      <th>spam</th>\n",
       "    </tr>\n",
       "  </thead>\n",
       "  <tbody>\n",
       "    <tr>\n",
       "      <th>0</th>\n",
       "      <td>Subject: naturally irresistible your corporate...</td>\n",
       "      <td>1</td>\n",
       "    </tr>\n",
       "    <tr>\n",
       "      <th>1</th>\n",
       "      <td>Subject: the stock trading gunslinger  fanny i...</td>\n",
       "      <td>1</td>\n",
       "    </tr>\n",
       "    <tr>\n",
       "      <th>2</th>\n",
       "      <td>Subject: unbelievable new homes made easy  im ...</td>\n",
       "      <td>1</td>\n",
       "    </tr>\n",
       "    <tr>\n",
       "      <th>3</th>\n",
       "      <td>Subject: 4 color printing special  request add...</td>\n",
       "      <td>1</td>\n",
       "    </tr>\n",
       "    <tr>\n",
       "      <th>4</th>\n",
       "      <td>Subject: do not have money , get software cds ...</td>\n",
       "      <td>1</td>\n",
       "    </tr>\n",
       "  </tbody>\n",
       "</table>\n",
       "</div>"
      ],
      "text/plain": [
       "                                                text  spam\n",
       "0  Subject: naturally irresistible your corporate...     1\n",
       "1  Subject: the stock trading gunslinger  fanny i...     1\n",
       "2  Subject: unbelievable new homes made easy  im ...     1\n",
       "3  Subject: 4 color printing special  request add...     1\n",
       "4  Subject: do not have money , get software cds ...     1"
      ]
     },
     "execution_count": 2,
     "metadata": {},
     "output_type": "execute_result"
    }
   ],
   "source": [
    "# Load the data\n",
    "df = pd.read_csv('../input/spam-filter/emails.csv')\n",
    "df.head()"
   ]
  },
  {
   "cell_type": "code",
   "execution_count": 3,
   "metadata": {
    "execution": {
     "iopub.execute_input": "2021-02-13T08:59:37.163522Z",
     "iopub.status.busy": "2021-02-13T08:59:37.162745Z",
     "iopub.status.idle": "2021-02-13T08:59:37.225625Z",
     "shell.execute_reply": "2021-02-13T08:59:37.226307Z"
    },
    "papermill": {
     "duration": 0.108327,
     "end_time": "2021-02-13T08:59:37.226521",
     "exception": false,
     "start_time": "2021-02-13T08:59:37.118194",
     "status": "completed"
    },
    "tags": []
   },
   "outputs": [
    {
     "name": "stdout",
     "output_type": "stream",
     "text": [
      "Number of duplicate rows in the data are :  33 \n",
      "So we drop them\n"
     ]
    }
   ],
   "source": [
    "# checking the number of duplicate columns\n",
    "print('Number of duplicate rows in the data are : ',df[df.duplicated(subset=None, keep='first') == True].shape[0], '\\nSo we drop them')\n",
    "\n",
    "# dropping the duplicate columns\n",
    "df.drop_duplicates(inplace = True)"
   ]
  },
  {
   "cell_type": "code",
   "execution_count": 4,
   "metadata": {
    "execution": {
     "iopub.execute_input": "2021-02-13T08:59:37.299339Z",
     "iopub.status.busy": "2021-02-13T08:59:37.296609Z",
     "iopub.status.idle": "2021-02-13T08:59:37.336172Z",
     "shell.execute_reply": "2021-02-13T08:59:37.336631Z"
    },
    "papermill": {
     "duration": 0.077988,
     "end_time": "2021-02-13T08:59:37.336797",
     "exception": false,
     "start_time": "2021-02-13T08:59:37.258809",
     "status": "completed"
    },
    "tags": []
   },
   "outputs": [
    {
     "data": {
      "text/html": [
       "<div>\n",
       "<style scoped>\n",
       "    .dataframe tbody tr th:only-of-type {\n",
       "        vertical-align: middle;\n",
       "    }\n",
       "\n",
       "    .dataframe tbody tr th {\n",
       "        vertical-align: top;\n",
       "    }\n",
       "\n",
       "    .dataframe thead tr th {\n",
       "        text-align: left;\n",
       "    }\n",
       "\n",
       "    .dataframe thead tr:last-of-type th {\n",
       "        text-align: right;\n",
       "    }\n",
       "</style>\n",
       "<table border=\"1\" class=\"dataframe\">\n",
       "  <thead>\n",
       "    <tr>\n",
       "      <th></th>\n",
       "      <th colspan=\"4\" halign=\"left\">text</th>\n",
       "    </tr>\n",
       "    <tr>\n",
       "      <th></th>\n",
       "      <th>count</th>\n",
       "      <th>unique</th>\n",
       "      <th>top</th>\n",
       "      <th>freq</th>\n",
       "    </tr>\n",
       "    <tr>\n",
       "      <th>spam</th>\n",
       "      <th></th>\n",
       "      <th></th>\n",
       "      <th></th>\n",
       "      <th></th>\n",
       "    </tr>\n",
       "  </thead>\n",
       "  <tbody>\n",
       "    <tr>\n",
       "      <th>0</th>\n",
       "      <td>4327</td>\n",
       "      <td>4327</td>\n",
       "      <td>Subject: bill koures  vince ,  alex and i did ...</td>\n",
       "      <td>1</td>\n",
       "    </tr>\n",
       "    <tr>\n",
       "      <th>1</th>\n",
       "      <td>1368</td>\n",
       "      <td>1368</td>\n",
       "      <td>Subject: need an outstanding logo now ?  worki...</td>\n",
       "      <td>1</td>\n",
       "    </tr>\n",
       "  </tbody>\n",
       "</table>\n",
       "</div>"
      ],
      "text/plain": [
       "      text                                                               \n",
       "     count unique                                                top freq\n",
       "spam                                                                     \n",
       "0     4327   4327  Subject: bill koures  vince ,  alex and i did ...    1\n",
       "1     1368   1368  Subject: need an outstanding logo now ?  worki...    1"
      ]
     },
     "execution_count": 4,
     "metadata": {},
     "output_type": "execute_result"
    }
   ],
   "source": [
    "# Describing the values in the Spam column\n",
    "df.groupby('spam').describe()"
   ]
  },
  {
   "cell_type": "markdown",
   "metadata": {
    "papermill": {
     "duration": 0.030868,
     "end_time": "2021-02-13T08:59:37.397822",
     "exception": false,
     "start_time": "2021-02-13T08:59:37.366954",
     "status": "completed"
    },
    "tags": []
   },
   "source": [
    "We can see that the "
   ]
  },
  {
   "cell_type": "code",
   "execution_count": 5,
   "metadata": {
    "execution": {
     "iopub.execute_input": "2021-02-13T08:59:37.468464Z",
     "iopub.status.busy": "2021-02-13T08:59:37.466851Z",
     "iopub.status.idle": "2021-02-13T08:59:37.469153Z",
     "shell.execute_reply": "2021-02-13T08:59:37.469608Z"
    },
    "papermill": {
     "duration": 0.041389,
     "end_time": "2021-02-13T08:59:37.469777",
     "exception": false,
     "start_time": "2021-02-13T08:59:37.428388",
     "status": "completed"
    },
    "tags": []
   },
   "outputs": [],
   "source": [
    "# creating a column with the length of each message\n",
    "df['mail_len'] = df.text.apply(len)"
   ]
  },
  {
   "cell_type": "markdown",
   "metadata": {
    "papermill": {
     "duration": 0.030403,
     "end_time": "2021-02-13T08:59:37.530415",
     "exception": false,
     "start_time": "2021-02-13T08:59:37.500012",
     "status": "completed"
    },
    "tags": []
   },
   "source": [
    "## Exploratory Data Analysis"
   ]
  },
  {
   "cell_type": "markdown",
   "metadata": {
    "papermill": {
     "duration": 0.030625,
     "end_time": "2021-02-13T08:59:37.592589",
     "exception": false,
     "start_time": "2021-02-13T08:59:37.561964",
     "status": "completed"
    },
    "tags": []
   },
   "source": [
    "Plotting the histogram of data for the count of Ham and Spam mails"
   ]
  },
  {
   "cell_type": "code",
   "execution_count": 6,
   "metadata": {
    "execution": {
     "iopub.execute_input": "2021-02-13T08:59:37.667896Z",
     "iopub.status.busy": "2021-02-13T08:59:37.667192Z",
     "iopub.status.idle": "2021-02-13T08:59:37.937854Z",
     "shell.execute_reply": "2021-02-13T08:59:37.937288Z"
    },
    "papermill": {
     "duration": 0.312447,
     "end_time": "2021-02-13T08:59:37.938002",
     "exception": false,
     "start_time": "2021-02-13T08:59:37.625555",
     "status": "completed"
    },
    "tags": []
   },
   "outputs": [
    {
     "data": {
      "text/plain": [
       "Text(0.5, 0, 'Ham/Spam')"
      ]
     },
     "execution_count": 6,
     "metadata": {},
     "output_type": "execute_result"
    },
    {
     "data": {
      "image/png": "[encoded data removed]",
      "text/plain": [
       "<Figure size 432x432 with 1 Axes>"
      ]
     },
     "metadata": {
      "needs_background": "light"
     },
     "output_type": "display_data"
    }
   ],
   "source": [
    "plt.figure(figsize=(6,6))\n",
    "\n",
    "df.spam[df.spam==1].plot(bins=4, kind='hist', color='blue', \n",
    "                                       label='Spam Mails', alpha=0.6)\n",
    "\n",
    "df.spam[df.spam==0].plot(bins=4, kind='hist', color='red', \n",
    "                                       label='Ham Mails', alpha=0.6)\n",
    "plt.legend()\n",
    "plt.xlabel(\"Ham/Spam\")"
   ]
  },
  {
   "cell_type": "markdown",
   "metadata": {
    "papermill": {
     "duration": 0.032512,
     "end_time": "2021-02-13T08:59:38.002569",
     "exception": false,
     "start_time": "2021-02-13T08:59:37.970057",
     "status": "completed"
    },
    "tags": []
   },
   "source": [
    "We cam see that the Ham mails are more almost 4 times in number than the spam mails"
   ]
  },
  {
   "cell_type": "markdown",
   "metadata": {
    "papermill": {
     "duration": 0.03327,
     "end_time": "2021-02-13T08:59:38.068914",
     "exception": false,
     "start_time": "2021-02-13T08:59:38.035644",
     "status": "completed"
    },
    "tags": []
   },
   "source": [
    "Plottin the distplot to see the distribution of mail length...bigger the mail lenght, higher the plot goes."
   ]
  },
  {
   "cell_type": "code",
   "execution_count": 7,
   "metadata": {
    "_kg_hide-input": false,
    "execution": {
     "iopub.execute_input": "2021-02-13T08:59:38.163597Z",
     "iopub.status.busy": "2021-02-13T08:59:38.161991Z",
     "iopub.status.idle": "2021-02-13T08:59:38.499101Z",
     "shell.execute_reply": "2021-02-13T08:59:38.499562Z"
    },
    "papermill": {
     "duration": 0.396169,
     "end_time": "2021-02-13T08:59:38.499747",
     "exception": false,
     "start_time": "2021-02-13T08:59:38.103578",
     "status": "completed"
    },
    "tags": []
   },
   "outputs": [
    {
     "data": {
      "text/plain": [
       "Text(0.5, 1.0, 'Length Histogram')"
      ]
     },
     "execution_count": 7,
     "metadata": {},
     "output_type": "execute_result"
    },
    {
     "data": {
      "image/png": "[encoded data removed]",
      "text/plain": [
       "<Figure size 720x360 with 1 Axes>"
      ]
     },
     "metadata": {},
     "output_type": "display_data"
    }
   ],
   "source": [
    "plt.style.use('seaborn-darkgrid')\n",
    "plt.figure(figsize=(10,5))\n",
    "sns.distplot(df['mail_len'],kde=True,color='red',hist=True)\n",
    "plt.xlabel(\"Message Length\",size=15)\n",
    "plt.ylabel(\"Frequency\",size=15)\n",
    "plt.title(\"Length Histogram\",size=15)"
   ]
  },
  {
   "cell_type": "markdown",
   "metadata": {
    "papermill": {
     "duration": 0.032842,
     "end_time": "2021-02-13T08:59:38.566695",
     "exception": false,
     "start_time": "2021-02-13T08:59:38.533853",
     "status": "completed"
    },
    "tags": []
   },
   "source": [
    "We see that the initial rows have got bigger mails than the later ones"
   ]
  },
  {
   "cell_type": "markdown",
   "metadata": {
    "papermill": {
     "duration": 0.035913,
     "end_time": "2021-02-13T08:59:38.635379",
     "exception": false,
     "start_time": "2021-02-13T08:59:38.599466",
     "status": "completed"
    },
    "tags": []
   },
   "source": [
    "Lets see the histogram of length of mails for both the labels in the same plot one over the other"
   ]
  },
  {
   "cell_type": "code",
   "execution_count": 8,
   "metadata": {
    "execution": {
     "iopub.execute_input": "2021-02-13T08:59:38.712802Z",
     "iopub.status.busy": "2021-02-13T08:59:38.711890Z",
     "iopub.status.idle": "2021-02-13T08:59:38.979855Z",
     "shell.execute_reply": "2021-02-13T08:59:38.980465Z"
    },
    "papermill": {
     "duration": 0.309856,
     "end_time": "2021-02-13T08:59:38.980657",
     "exception": false,
     "start_time": "2021-02-13T08:59:38.670801",
     "status": "completed"
    },
    "tags": []
   },
   "outputs": [
    {
     "data": {
      "text/plain": [
       "Text(0.5, 0, 'Mail Length')"
      ]
     },
     "execution_count": 8,
     "metadata": {},
     "output_type": "execute_result"
    },
    {
     "data": {
      "image/png": "[encoded data removed]",
      "text/plain": [
       "<Figure size 864x576 with 1 Axes>"
      ]
     },
     "metadata": {},
     "output_type": "display_data"
    }
   ],
   "source": [
    "plt.figure(figsize=(12, 8))\n",
    "df[df.spam==1].mail_len.plot( kind='hist', color='blue',label='Spam Mails', alpha=0.6)\n",
    "df[df.spam== 0].mail_len.plot(kind='hist', color='red',label='Ham Mails', alpha=0.6)\n",
    "plt.legend()\n",
    "plt.xlabel(\"Mail Length\")"
   ]
  },
  {
   "cell_type": "markdown",
   "metadata": {
    "papermill": {
     "duration": 0.035338,
     "end_time": "2021-02-13T08:59:39.055303",
     "exception": false,
     "start_time": "2021-02-13T08:59:39.019965",
     "status": "completed"
    },
    "tags": []
   },
   "source": []
  },
  {
   "cell_type": "markdown",
   "metadata": {
    "papermill": {
     "duration": 0.036992,
     "end_time": "2021-02-13T08:59:39.128519",
     "exception": false,
     "start_time": "2021-02-13T08:59:39.091527",
     "status": "completed"
    },
    "tags": []
   },
   "source": [
    "## Preprocessing of the text data\n",
    "In preprocessing we will remove the punctuations and stopwords and lower case all the mails data"
   ]
  },
  {
   "cell_type": "code",
   "execution_count": 9,
   "metadata": {
    "execution": {
     "iopub.execute_input": "2021-02-13T08:59:39.207262Z",
     "iopub.status.busy": "2021-02-13T08:59:39.206500Z",
     "iopub.status.idle": "2021-02-13T08:59:39.210775Z",
     "shell.execute_reply": "2021-02-13T08:59:39.210182Z"
    },
    "papermill": {
     "duration": 0.044626,
     "end_time": "2021-02-13T08:59:39.210927",
     "exception": false,
     "start_time": "2021-02-13T08:59:39.166301",
     "status": "completed"
    },
    "tags": []
   },
   "outputs": [],
   "source": [
    "#1.Punctuations are [!\"#$%&'()*+,-./:;<=>?@[\\]^_`{|}~]\n",
    "#2.Stop words in natural language processing, are useless words (data).\n",
    "\n",
    "def process_text(text):\n",
    "    \n",
    "    #1 Remove Punctuationa\n",
    "    nopunc = [char for char in text if char not in string.punctuation]\n",
    "    nopunc = ''.join(nopunc)\n",
    "    \n",
    "    #2 Remove Stop Words\n",
    "    clean_words = [word for word in nopunc.split() if word.lower() not in stopwords.words('english')]\n",
    "    \n",
    "    #3 Return a list of clean words\n",
    "    return clean_words"
   ]
  },
  {
   "cell_type": "code",
   "execution_count": 10,
   "metadata": {
    "execution": {
     "iopub.execute_input": "2021-02-13T08:59:39.289447Z",
     "iopub.status.busy": "2021-02-13T08:59:39.288809Z",
     "iopub.status.idle": "2021-02-13T09:02:52.816199Z",
     "shell.execute_reply": "2021-02-13T09:02:52.816676Z"
    },
    "papermill": {
     "duration": 193.570119,
     "end_time": "2021-02-13T09:02:52.816867",
     "exception": false,
     "start_time": "2021-02-13T08:59:39.246748",
     "status": "completed"
    },
    "tags": []
   },
   "outputs": [
    {
     "data": {
      "text/plain": [
       "0    [Subject, naturally, irresistible, corporate, ...\n",
       "1    [Subject, stock, trading, gunslinger, fanny, m...\n",
       "2    [Subject, unbelievable, new, homes, made, easy...\n",
       "3    [Subject, 4, color, printing, special, request...\n",
       "4    [Subject, money, get, software, cds, software,...\n",
       "Name: text, dtype: object"
      ]
     },
     "execution_count": 10,
     "metadata": {},
     "output_type": "execute_result"
    }
   ],
   "source": [
    "#Show the processed data\n",
    "df.text = df.text.apply(process_text)\n",
    "df.text.head()\n"
   ]
  },
  {
   "cell_type": "markdown",
   "metadata": {
    "papermill": {
     "duration": 0.034832,
     "end_time": "2021-02-13T09:02:52.887300",
     "exception": false,
     "start_time": "2021-02-13T09:02:52.852468",
     "status": "completed"
    },
    "tags": []
   },
   "source": [
    "## Vectorization of the text data \n",
    "\n",
    "We can not feed text data directly to the models. So we will vectorize each mail into a matrix by tokenizing it, then converting  into numerial vectors and finally padding it to create a matrix of numbers for each mail input."
   ]
  },
  {
   "cell_type": "code",
   "execution_count": 11,
   "metadata": {
    "execution": {
     "iopub.execute_input": "2021-02-13T09:02:53.005803Z",
     "iopub.status.busy": "2021-02-13T09:02:52.995564Z",
     "iopub.status.idle": "2021-02-13T09:02:54.424189Z",
     "shell.execute_reply": "2021-02-13T09:02:54.423604Z"
    },
    "papermill": {
     "duration": 1.502146,
     "end_time": "2021-02-13T09:02:54.424341",
     "exception": false,
     "start_time": "2021-02-13T09:02:52.922195",
     "status": "completed"
    },
    "tags": []
   },
   "outputs": [],
   "source": [
    "vocab_size = 10000\n",
    "max_len = 250\n",
    "\n",
    "# Tokenize the mails\n",
    "tok = Tokenizer(num_words=vocab_size)\n",
    "tok.fit_on_texts(df.text)\n",
    "\n",
    "# Use text_to_sequence to convert it into vectors\n",
    "sequences = tok.texts_to_sequences(df.text)\n",
    "\n",
    "# pad seqence to create a matrix of equal length mails\n",
    "sequences_matrix = sequence.pad_sequences(sequences,maxlen=max_len)"
   ]
  },
  {
   "cell_type": "markdown",
   "metadata": {
    "papermill": {
     "duration": 0.036083,
     "end_time": "2021-02-13T09:02:54.496589",
     "exception": false,
     "start_time": "2021-02-13T09:02:54.460506",
     "status": "completed"
    },
    "tags": []
   },
   "source": [
    "Lets see how the mails look like now....."
   ]
  },
  {
   "cell_type": "code",
   "execution_count": 12,
   "metadata": {
    "execution": {
     "iopub.execute_input": "2021-02-13T09:02:54.579357Z",
     "iopub.status.busy": "2021-02-13T09:02:54.577320Z",
     "iopub.status.idle": "2021-02-13T09:02:54.589472Z",
     "shell.execute_reply": "2021-02-13T09:02:54.590131Z"
    },
    "papermill": {
     "duration": 0.058519,
     "end_time": "2021-02-13T09:02:54.590340",
     "exception": false,
     "start_time": "2021-02-13T09:02:54.531821",
     "status": "completed"
    },
    "tags": []
   },
   "outputs": [
    {
     "data": {
      "text/plain": [
       "array([   0,    0,    0,    0,    0,    0,    0,    0,    0,    0,    0,\n",
       "          0,    0,    0,    0,    0,    0,    0,    0,    0,    0,    0,\n",
       "          0,    0,    0,    0,    0,    0,    0,    0,    0,    0,    0,\n",
       "          0,    0,    0,    0,    0,    0,    0,    0,    0,    0,    0,\n",
       "          0,    0,    0,    0,    0,    0,    0,    0,    0,    0,    0,\n",
       "          0,    0,    0,    0,    0,    0,    0,    0,    0,    0,    0,\n",
       "          0,    0,    0,    0,    0,    0,    0,    0,    0,    0,    0,\n",
       "          0,    0,    0,    0,    0,    0,    0,    0,    0,    0,    0,\n",
       "          0,    0,    0,    0,    0,    0,    0,    0,    0,    0,    0,\n",
       "          0,    0,    0,    0,    0,    0,    0,    0,    0,    0,    0,\n",
       "          0,    0,    0,    0,    0,    0,    0,    0,    0,    0,    0,\n",
       "          0,    0,    0,    0,    0,    0,    0,    0,    0,    0,    0,\n",
       "          0,    0,    0,    0,    0,    0,    3, 5665,  409, 1652, 3770,\n",
       "        353,  784, 4271,   50,   59,  297, 6154,   25, 9044,   98, 4381,\n",
       "        721, 5916, 5917, 1557,  199,   63, 2031,  147, 1723, 1871, 7869,\n",
       "       1584, 4166,   50,  570,  300, 5666, 6428, 7870,  377,   98,  250,\n",
       "        757,   32,  736, 4382, 2916, 4510, 4272,   59, 1871,  345,  665,\n",
       "        570,  147,  757,  101,  905, 1162, 4383,  981,  212,  187, 2372,\n",
       "       3402,  450, 1907, 4167,   50, 1136, 1022,  721, 1313,  587, 2430,\n",
       "        717,   95,  571,   58,  166, 4511,  341,  199,  571,  334,  843,\n",
       "       4384,   64,  721, 4050,  176,  394,   32,  194, 4385,  345, 1260,\n",
       "         63, 3616, 1231,  379, 1992, 1163,  168, 1889,  619,  330, 1357,\n",
       "       1924, 4512, 1179,  800, 2268,   86,  575,  135], dtype=int32)"
      ]
     },
     "execution_count": 12,
     "metadata": {},
     "output_type": "execute_result"
    }
   ],
   "source": [
    "sequences_matrix[0]"
   ]
  },
  {
   "cell_type": "markdown",
   "metadata": {
    "papermill": {
     "duration": 0.059551,
     "end_time": "2021-02-13T09:02:54.708767",
     "exception": false,
     "start_time": "2021-02-13T09:02:54.649216",
     "status": "completed"
    },
    "tags": []
   },
   "source": [
    "Okay...So finally the data is ready for training."
   ]
  },
  {
   "cell_type": "markdown",
   "metadata": {
    "papermill": {
     "duration": 0.068068,
     "end_time": "2021-02-13T09:02:54.834328",
     "exception": false,
     "start_time": "2021-02-13T09:02:54.766260",
     "status": "completed"
    },
    "tags": []
   },
   "source": [
    "### Train Test Split"
   ]
  },
  {
   "cell_type": "code",
   "execution_count": 13,
   "metadata": {
    "execution": {
     "iopub.execute_input": "2021-02-13T09:02:54.959699Z",
     "iopub.status.busy": "2021-02-13T09:02:54.956489Z",
     "iopub.status.idle": "2021-02-13T09:02:54.966605Z",
     "shell.execute_reply": "2021-02-13T09:02:54.967753Z"
    },
    "papermill": {
     "duration": 0.076625,
     "end_time": "2021-02-13T09:02:54.968043",
     "exception": false,
     "start_time": "2021-02-13T09:02:54.891418",
     "status": "completed"
    },
    "tags": []
   },
   "outputs": [],
   "source": [
    "from sklearn.model_selection import train_test_split\n",
    "X_train, X_test, y_train, y_test = train_test_split(sequences_matrix, df.spam, test_size = 0.2, random_state = 1)"
   ]
  },
  {
   "cell_type": "markdown",
   "metadata": {
    "papermill": {
     "duration": 0.054239,
     "end_time": "2021-02-13T09:02:55.077848",
     "exception": false,
     "start_time": "2021-02-13T09:02:55.023609",
     "status": "completed"
    },
    "tags": []
   },
   "source": [
    "We will now train the data on the below ML Models.\n",
    "Lets make a list of the classification models, fit them on training data and check for their respective accuracies."
   ]
  },
  {
   "cell_type": "code",
   "execution_count": 14,
   "metadata": {
    "execution": {
     "iopub.execute_input": "2021-02-13T09:02:55.195330Z",
     "iopub.status.busy": "2021-02-13T09:02:55.194348Z",
     "iopub.status.idle": "2021-02-13T09:03:20.585375Z",
     "shell.execute_reply": "2021-02-13T09:03:20.584740Z"
    },
    "papermill": {
     "duration": 25.453347,
     "end_time": "2021-02-13T09:03:20.585560",
     "exception": false,
     "start_time": "2021-02-13T09:02:55.132213",
     "status": "completed"
    },
    "tags": []
   },
   "outputs": [
    {
     "name": "stdout",
     "output_type": "stream",
     "text": [
      "[09:03:01] WARNING: ../src/learner.cc:1061: Starting in XGBoost 1.3.0, the default evaluation metric used with the objective 'binary:logistic' was changed from 'error' to 'logloss'. Explicitly set eval_metric if you'd like to restore the old behavior.\n"
     ]
    }
   ],
   "source": [
    "models=[RandomForestClassifier(),\n",
    "        GaussianNB(),\n",
    "        AdaBoostClassifier(),\n",
    "        xgboost.XGBClassifier(),\n",
    "        svm.SVC(),\n",
    "        tree.DecisionTreeClassifier(),\n",
    "        KNeighborsClassifier()]\n",
    "\n",
    "model_names=['Random Forest Classifier',\n",
    "             'Gaussian Naive Bayes Classifier',\n",
    "             'Adaboost Classifier',\n",
    "             'XGBoost Classifier',\n",
    "             'Support Vector Classifier',\n",
    "             'Decision Tree Classifier',\n",
    "             'K Nearest Neighbour Classifier']\n",
    "accuracy=[]\n",
    "d={}\n",
    "for model in range (len(models)):\n",
    "    clf=models[model]\n",
    "    clf.fit(X_train,y_train)\n",
    "    y_pred=clf.predict(X_test)\n",
    "    accuracy.append(accuracy_score(y_test,y_pred))\n",
    "d={'Modelling Algo':model_names,'Accuracy':accuracy} "
   ]
  },
  {
   "cell_type": "markdown",
   "metadata": {
    "papermill": {
     "duration": 0.041375,
     "end_time": "2021-02-13T09:03:20.670401",
     "exception": false,
     "start_time": "2021-02-13T09:03:20.629026",
     "status": "completed"
    },
    "tags": []
   },
   "source": [
    "lets put all the models with their accuracies and compare to see whcih one has the highest score."
   ]
  },
  {
   "cell_type": "code",
   "execution_count": 15,
   "metadata": {
    "execution": {
     "iopub.execute_input": "2021-02-13T09:03:20.757058Z",
     "iopub.status.busy": "2021-02-13T09:03:20.756071Z",
     "iopub.status.idle": "2021-02-13T09:03:20.760920Z",
     "shell.execute_reply": "2021-02-13T09:03:20.760345Z"
    },
    "papermill": {
     "duration": 0.053374,
     "end_time": "2021-02-13T09:03:20.761044",
     "exception": false,
     "start_time": "2021-02-13T09:03:20.707670",
     "status": "completed"
    },
    "tags": []
   },
   "outputs": [
    {
     "data": {
      "text/html": [
       "<div>\n",
       "<style scoped>\n",
       "    .dataframe tbody tr th:only-of-type {\n",
       "        vertical-align: middle;\n",
       "    }\n",
       "\n",
       "    .dataframe tbody tr th {\n",
       "        vertical-align: top;\n",
       "    }\n",
       "\n",
       "    .dataframe thead th {\n",
       "        text-align: right;\n",
       "    }\n",
       "</style>\n",
       "<table border=\"1\" class=\"dataframe\">\n",
       "  <thead>\n",
       "    <tr style=\"text-align: right;\">\n",
       "      <th></th>\n",
       "      <th>Modelling Algo</th>\n",
       "      <th>Accuracy</th>\n",
       "    </tr>\n",
       "  </thead>\n",
       "  <tbody>\n",
       "    <tr>\n",
       "      <th>0</th>\n",
       "      <td>Random Forest Classifier</td>\n",
       "      <td>0.854258</td>\n",
       "    </tr>\n",
       "    <tr>\n",
       "      <th>1</th>\n",
       "      <td>Gaussian Naive Bayes Classifier</td>\n",
       "      <td>0.462687</td>\n",
       "    </tr>\n",
       "    <tr>\n",
       "      <th>2</th>\n",
       "      <td>Adaboost Classifier</td>\n",
       "      <td>0.817384</td>\n",
       "    </tr>\n",
       "    <tr>\n",
       "      <th>3</th>\n",
       "      <td>XGBoost Classifier</td>\n",
       "      <td>0.887621</td>\n",
       "    </tr>\n",
       "    <tr>\n",
       "      <th>4</th>\n",
       "      <td>Support Vector Classifier</td>\n",
       "      <td>0.824407</td>\n",
       "    </tr>\n",
       "    <tr>\n",
       "      <th>5</th>\n",
       "      <td>Decision Tree Classifier</td>\n",
       "      <td>0.775241</td>\n",
       "    </tr>\n",
       "    <tr>\n",
       "      <th>6</th>\n",
       "      <td>K Nearest Neighbour Classifier</td>\n",
       "      <td>0.806848</td>\n",
       "    </tr>\n",
       "  </tbody>\n",
       "</table>\n",
       "</div>"
      ],
      "text/plain": [
       "                    Modelling Algo  Accuracy\n",
       "0         Random Forest Classifier  0.854258\n",
       "1  Gaussian Naive Bayes Classifier  0.462687\n",
       "2              Adaboost Classifier  0.817384\n",
       "3               XGBoost Classifier  0.887621\n",
       "4        Support Vector Classifier  0.824407\n",
       "5         Decision Tree Classifier  0.775241\n",
       "6   K Nearest Neighbour Classifier  0.806848"
      ]
     },
     "execution_count": 15,
     "metadata": {},
     "output_type": "execute_result"
    }
   ],
   "source": [
    "accuracy_frame=pd.DataFrame.from_dict(d, orient='index').transpose()\n",
    "accuracy_frame"
   ]
  },
  {
   "cell_type": "markdown",
   "metadata": {
    "papermill": {
     "duration": 0.038814,
     "end_time": "2021-02-13T09:03:20.838014",
     "exception": false,
     "start_time": "2021-02-13T09:03:20.799200",
     "status": "completed"
    },
    "tags": []
   },
   "source": [
    "XGBoost Classifier has the highest score, we will do hyperparameter tuning and see how much the accuracy improves"
   ]
  },
  {
   "cell_type": "code",
   "execution_count": 16,
   "metadata": {
    "execution": {
     "iopub.execute_input": "2021-02-13T09:03:20.920859Z",
     "iopub.status.busy": "2021-02-13T09:03:20.919040Z",
     "iopub.status.idle": "2021-02-13T09:03:20.921556Z",
     "shell.execute_reply": "2021-02-13T09:03:20.922022Z"
    },
    "papermill": {
     "duration": 0.047305,
     "end_time": "2021-02-13T09:03:20.922159",
     "exception": false,
     "start_time": "2021-02-13T09:03:20.874854",
     "status": "completed"
    },
    "tags": []
   },
   "outputs": [],
   "source": [
    "from sklearn.model_selection import RandomizedSearchCV\n",
    "# Number of trees in random forest\n",
    "n_estimators = [int(x) for x in np.linspace(start = 200, stop = 2000, num = 10)]\n",
    "# Number of features to consider at every split\n",
    "max_features = ['auto', 'sqrt']\n",
    "# Maximum number of levels in tree\n",
    "max_depth = [int(x) for x in np.linspace(10, 110, num = 11)]\n",
    "max_depth.append(None)\n",
    "# Minimum number of samples required to split a node\n",
    "min_samples_split = [2, 5, 10]\n",
    "# Minimum number of samples required at each leaf node\n",
    "min_samples_leaf = [1, 2, 4]\n",
    "# Method of selecting samples for training each tree\n",
    "bootstrap = [True, False]\n",
    "# Create the random grid"
   ]
  },
  {
   "cell_type": "code",
   "execution_count": 17,
   "metadata": {
    "execution": {
     "iopub.execute_input": "2021-02-13T09:03:21.006471Z",
     "iopub.status.busy": "2021-02-13T09:03:21.004612Z",
     "iopub.status.idle": "2021-02-13T09:03:21.007169Z",
     "shell.execute_reply": "2021-02-13T09:03:21.007655Z"
    },
    "papermill": {
     "duration": 0.047687,
     "end_time": "2021-02-13T09:03:21.007851",
     "exception": false,
     "start_time": "2021-02-13T09:03:20.960164",
     "status": "completed"
    },
    "tags": []
   },
   "outputs": [],
   "source": [
    "random_grid = {'n_estimators': n_estimators,\n",
    "               'max_features': max_features,\n",
    "               'max_depth': max_depth,\n",
    "               'min_samples_split': min_samples_split,\n",
    "               'min_samples_leaf': min_samples_leaf,\n",
    "               'bootstrap': bootstrap}"
   ]
  },
  {
   "cell_type": "code",
   "execution_count": 18,
   "metadata": {
    "execution": {
     "iopub.execute_input": "2021-02-13T09:03:21.092172Z",
     "iopub.status.busy": "2021-02-13T09:03:21.091318Z",
     "iopub.status.idle": "2021-02-13T09:03:21.095961Z",
     "shell.execute_reply": "2021-02-13T09:03:21.095341Z"
    },
    "papermill": {
     "duration": 0.047891,
     "end_time": "2021-02-13T09:03:21.096092",
     "exception": false,
     "start_time": "2021-02-13T09:03:21.048201",
     "status": "completed"
    },
    "tags": []
   },
   "outputs": [
    {
     "name": "stdout",
     "output_type": "stream",
     "text": [
      "{'n_estimators': [200, 400, 600, 800, 1000, 1200, 1400, 1600, 1800, 2000], 'max_features': ['auto', 'sqrt'], 'max_depth': [10, 20, 30, 40, 50, 60, 70, 80, 90, 100, 110, None], 'min_samples_split': [2, 5, 10], 'min_samples_leaf': [1, 2, 4], 'bootstrap': [True, False]}\n"
     ]
    }
   ],
   "source": [
    "print(random_grid)"
   ]
  },
  {
   "cell_type": "code",
   "execution_count": 19,
   "metadata": {
    "execution": {
     "iopub.execute_input": "2021-02-13T09:03:21.182617Z",
     "iopub.status.busy": "2021-02-13T09:03:21.181683Z",
     "iopub.status.idle": "2021-02-13T09:09:22.801230Z",
     "shell.execute_reply": "2021-02-13T09:09:22.801773Z"
    },
    "papermill": {
     "duration": 361.665107,
     "end_time": "2021-02-13T09:09:22.801976",
     "exception": false,
     "start_time": "2021-02-13T09:03:21.136869",
     "status": "completed"
    },
    "tags": []
   },
   "outputs": [
    {
     "name": "stdout",
     "output_type": "stream",
     "text": [
      "Fitting 2 folds for each of 5 candidates, totalling 10 fits\n"
     ]
    },
    {
     "name": "stderr",
     "output_type": "stream",
     "text": [
      "[Parallel(n_jobs=-1)]: Using backend LokyBackend with 2 concurrent workers.\n",
      "[Parallel(n_jobs=-1)]: Done  10 out of  10 | elapsed:  5.2min finished\n"
     ]
    },
    {
     "name": "stdout",
     "output_type": "stream",
     "text": [
      "[09:08:34] WARNING: ../src/learner.cc:541: \n",
      "Parameters: { bootstrap, max_features, min_samples_leaf, min_samples_split } might not be used.\n",
      "\n",
      "  This may not be accurate due to some parameters are only used in language bindings but\n",
      "  passed down to XGBoost core.  Or some parameters are not used but slip through this\n",
      "  verification. Please open an issue if you find above cases.\n",
      "\n",
      "\n",
      "[09:08:35] WARNING: ../src/learner.cc:1061: Starting in XGBoost 1.3.0, the default evaluation metric used with the objective 'binary:logistic' was changed from 'error' to 'logloss'. Explicitly set eval_metric if you'd like to restore the old behavior.\n"
     ]
    },
    {
     "data": {
      "text/plain": [
       "RandomizedSearchCV(cv=2,\n",
       "                   estimator=XGBClassifier(base_score=None, booster=None,\n",
       "                                           colsample_bylevel=None,\n",
       "                                           colsample_bynode=None,\n",
       "                                           colsample_bytree=None, gamma=None,\n",
       "                                           gpu_id=None, importance_type='gain',\n",
       "                                           interaction_constraints=None,\n",
       "                                           learning_rate=None,\n",
       "                                           max_delta_step=None, max_depth=None,\n",
       "                                           min_child_weight=None, missing=nan,\n",
       "                                           monotone_constraints=None,\n",
       "                                           n_estimators=100,...\n",
       "                                           subsample=None, tree_method=None,\n",
       "                                           validate_parameters=None,\n",
       "                                           verbosity=None),\n",
       "                   n_iter=5, n_jobs=-1,\n",
       "                   param_distributions={'bootstrap': [True, False],\n",
       "                                        'max_depth': [10, 20, 30, 40, 50, 60,\n",
       "                                                      70, 80, 90, 100, 110,\n",
       "                                                      None],\n",
       "                                        'max_features': ['auto', 'sqrt'],\n",
       "                                        'min_samples_leaf': [1, 2, 4],\n",
       "                                        'min_samples_split': [2, 5, 10],\n",
       "                                        'n_estimators': [200, 400, 600, 800,\n",
       "                                                         1000, 1200, 1400, 1600,\n",
       "                                                         1800, 2000]},\n",
       "                   random_state=42, verbose=2)"
      ]
     },
     "execution_count": 19,
     "metadata": {},
     "output_type": "execute_result"
    }
   ],
   "source": [
    "# Use the random grid to search for best hyperparameters\n",
    "# First create the base model to tune\n",
    "rf = xgboost.XGBClassifier()\n",
    "# Random search of parameters, using 2 fold cross validation, \n",
    "# search across 5 different combinations, and use all available cores\n",
    "rf_random = RandomizedSearchCV(estimator = rf, param_distributions = random_grid, n_iter = 5, cv = 2, verbose=2, random_state=42, n_jobs = -1)\n",
    "# Fit the random search model\n",
    "rf_random.fit(X_train, y_train)"
   ]
  },
  {
   "cell_type": "code",
   "execution_count": 20,
   "metadata": {
    "execution": {
     "iopub.execute_input": "2021-02-13T09:09:22.892960Z",
     "iopub.status.busy": "2021-02-13T09:09:22.892229Z",
     "iopub.status.idle": "2021-02-13T09:09:22.895941Z",
     "shell.execute_reply": "2021-02-13T09:09:22.896437Z"
    },
    "papermill": {
     "duration": 0.051931,
     "end_time": "2021-02-13T09:09:22.896580",
     "exception": false,
     "start_time": "2021-02-13T09:09:22.844649",
     "status": "completed"
    },
    "tags": []
   },
   "outputs": [
    {
     "data": {
      "text/plain": [
       "{'n_estimators': 1000,\n",
       " 'min_samples_split': 10,\n",
       " 'min_samples_leaf': 1,\n",
       " 'max_features': 'auto',\n",
       " 'max_depth': 80,\n",
       " 'bootstrap': False}"
      ]
     },
     "execution_count": 20,
     "metadata": {},
     "output_type": "execute_result"
    }
   ],
   "source": [
    "rf_random.best_params_"
   ]
  },
  {
   "cell_type": "code",
   "execution_count": 21,
   "metadata": {
    "execution": {
     "iopub.execute_input": "2021-02-13T09:09:22.986121Z",
     "iopub.status.busy": "2021-02-13T09:09:22.985181Z",
     "iopub.status.idle": "2021-02-13T09:09:22.993136Z",
     "shell.execute_reply": "2021-02-13T09:09:22.993777Z"
    },
    "papermill": {
     "duration": 0.05546,
     "end_time": "2021-02-13T09:09:22.993936",
     "exception": false,
     "start_time": "2021-02-13T09:09:22.938476",
     "status": "completed"
    },
    "tags": []
   },
   "outputs": [
    {
     "data": {
      "text/plain": [
       "XGBClassifier(base_score=0.5, booster='gbtree', bootstrap=False,\n",
       "              colsample_bylevel=1, colsample_bynode=1, colsample_bytree=1,\n",
       "              gamma=0, gpu_id=-1, importance_type='gain',\n",
       "              interaction_constraints='', learning_rate=0.300000012,\n",
       "              max_delta_step=0, max_depth=80, max_features='auto',\n",
       "              min_child_weight=1, min_samples_leaf=1, min_samples_split=10,\n",
       "              missing=nan, monotone_constraints='()', n_estimators=1000,\n",
       "              n_jobs=2, num_parallel_tree=1, random_state=0, reg_alpha=0,\n",
       "              reg_lambda=1, scale_pos_weight=1, subsample=1,\n",
       "              tree_method='exact', validate_parameters=1, verbosity=None)"
      ]
     },
     "execution_count": 21,
     "metadata": {},
     "output_type": "execute_result"
    }
   ],
   "source": [
    "rf_random.best_estimator_"
   ]
  },
  {
   "cell_type": "markdown",
   "metadata": {
    "papermill": {
     "duration": 0.041073,
     "end_time": "2021-02-13T09:09:23.078224",
     "exception": false,
     "start_time": "2021-02-13T09:09:23.037151",
     "status": "completed"
    },
    "tags": []
   },
   "source": [
    "Evaluating the score with best parameters"
   ]
  },
  {
   "cell_type": "code",
   "execution_count": 22,
   "metadata": {
    "execution": {
     "iopub.execute_input": "2021-02-13T09:09:23.169598Z",
     "iopub.status.busy": "2021-02-13T09:09:23.168655Z",
     "iopub.status.idle": "2021-02-13T09:10:10.238034Z",
     "shell.execute_reply": "2021-02-13T09:10:10.238533Z"
    },
    "papermill": {
     "duration": 47.118879,
     "end_time": "2021-02-13T09:10:10.238694",
     "exception": false,
     "start_time": "2021-02-13T09:09:23.119815",
     "status": "completed"
    },
    "tags": []
   },
   "outputs": [
    {
     "name": "stdout",
     "output_type": "stream",
     "text": [
      "[09:09:23] WARNING: ../src/learner.cc:541: \n",
      "Parameters: { bootstrap, max_features, min_samples_leaf, min_samples_split } might not be used.\n",
      "\n",
      "  This may not be accurate due to some parameters are only used in language bindings but\n",
      "  passed down to XGBoost core.  Or some parameters are not used but slip through this\n",
      "  verification. Please open an issue if you find above cases.\n",
      "\n",
      "\n",
      "[09:09:23] WARNING: ../src/learner.cc:1061: Starting in XGBoost 1.3.0, the default evaluation metric used with the objective 'binary:logistic' was changed from 'error' to 'logloss'. Explicitly set eval_metric if you'd like to restore the old behavior.\n",
      "[[847  19]\n",
      " [104 169]]\n",
      "0.8920105355575065\n",
      "              precision    recall  f1-score   support\n",
      "\n",
      "           0       0.89      0.98      0.93       866\n",
      "           1       0.90      0.62      0.73       273\n",
      "\n",
      "    accuracy                           0.89      1139\n",
      "   macro avg       0.89      0.80      0.83      1139\n",
      "weighted avg       0.89      0.89      0.88      1139\n",
      "\n"
     ]
    }
   ],
   "source": [
    "rfc = rf_random.best_estimator_\n",
    "rfc.fit(X_train, y_train)\n",
    "y_pred1 = rfc.predict(X_test) \n",
    "print(confusion_matrix(y_test,y_pred1))\n",
    "print(accuracy_score(y_test,y_pred1))\n",
    "print(classification_report(y_test,y_pred1))"
   ]
  },
  {
   "cell_type": "markdown",
   "metadata": {
    "papermill": {
     "duration": 0.04145,
     "end_time": "2021-02-13T09:10:10.323792",
     "exception": false,
     "start_time": "2021-02-13T09:10:10.282342",
     "status": "completed"
    },
    "tags": []
   },
   "source": [
    "### Accuracy using XGBoost with best parameters does improve improved the accuracy score but its still not satisfactory\n"
   ]
  },
  {
   "cell_type": "markdown",
   "metadata": {
    "papermill": {
     "duration": 0.041581,
     "end_time": "2021-02-13T09:10:10.408791",
     "exception": false,
     "start_time": "2021-02-13T09:10:10.367210",
     "status": "completed"
    },
    "tags": []
   },
   "source": [
    "### Now lets use a simple single layered LSTM model"
   ]
  },
  {
   "cell_type": "markdown",
   "metadata": {
    "papermill": {
     "duration": 0.042014,
     "end_time": "2021-02-13T09:10:10.492143",
     "exception": false,
     "start_time": "2021-02-13T09:10:10.450129",
     "status": "completed"
    },
    "tags": []
   },
   "source": [
    "https://en.wikipedia.org/wiki/Long_short-term_memory\n",
    "## What is LSTM and why it is used..\n",
    "\n",
    "Long short-term memory (LSTM) is an artificial recurrent neural network (RNN) architecture used in the field of deep learning.\n",
    "\n",
    "In theory, classic (or \"vanilla\") RNNs can keep track of arbitrary long-term dependencies in the input sequences. The problem with vanilla RNNs is computational (or practical) in nature: when training a vanilla RNN using back-propagation, the gradients which are back-propagated can \"vanish\" (that is, they can tend to zero) or \"explode\" (that is, they can tend to infinity), because of the computations involved in the process, which use finite-precision numbers. RNNs using LSTM units partially solve the vanishing gradient problem, because LSTM units allow gradients to also flow unchanged.\n",
    "We also have Bi-directional LSTM which overcomes the drwbacks of LSTM model"
   ]
  },
  {
   "cell_type": "markdown",
   "metadata": {
    "papermill": {
     "duration": 0.042628,
     "end_time": "2021-02-13T09:10:10.577491",
     "exception": false,
     "start_time": "2021-02-13T09:10:10.534863",
     "status": "completed"
    },
    "tags": []
   },
   "source": [
    "[https://machinelearningmastery.com/use-word-embedding-layers-deep-learning-keras/](http://)\n",
    "## Embedding layer - \n",
    "Also we are using an embedding layer before giving the data to the LSTM layer\n",
    "\n",
    "The Embedding layer is defined as the first hidden layer of a network. It must specify 3 arguments: \n",
    "1. input_dim: This is the size of the vocabulary in the text data. For example, if your data is integer encoded to values between 0-10, then the size of the vocabulary would be 11 words.\n",
    "2. output_dim: This is the size of the vector space in which words will be embedded. It defines the size of the output vectors from this layer for each word.\n",
    "3. input_length: This is the length of input sequences, as you would define for any input layer of a Keras model. For example, if all of your input documents are comprised of 1000 words, this would be 1000.\n",
    "\n"
   ]
  },
  {
   "cell_type": "code",
   "execution_count": 23,
   "metadata": {
    "execution": {
     "iopub.execute_input": "2021-02-13T09:10:10.669185Z",
     "iopub.status.busy": "2021-02-13T09:10:10.668483Z",
     "iopub.status.idle": "2021-02-13T09:10:16.670797Z",
     "shell.execute_reply": "2021-02-13T09:10:16.669839Z"
    },
    "papermill": {
     "duration": 6.050484,
     "end_time": "2021-02-13T09:10:16.670953",
     "exception": false,
     "start_time": "2021-02-13T09:10:10.620469",
     "status": "completed"
    },
    "tags": []
   },
   "outputs": [
    {
     "name": "stdout",
     "output_type": "stream",
     "text": [
      "Model: \"sequential\"\n",
      "_________________________________________________________________\n",
      "Layer (type)                 Output Shape              Param #   \n",
      "=================================================================\n",
      "embedding (Embedding)        (None, 250, 200)          2000000   \n",
      "_________________________________________________________________\n",
      "lstm (LSTM)                  (None, 32)                29824     \n",
      "_________________________________________________________________\n",
      "dense (Dense)                (None, 1)                 33        \n",
      "=================================================================\n",
      "Total params: 2,029,857\n",
      "Trainable params: 2,029,857\n",
      "Non-trainable params: 0\n",
      "_________________________________________________________________\n"
     ]
    }
   ],
   "source": [
    "model = Sequential()\n",
    "model.add(Embedding(vocab_size, 200, input_length=max_len))\n",
    "model.add(LSTM(32))\n",
    "model.add(Dense(1,activation='sigmoid'))\n",
    "model.summary()\n",
    "model.compile(loss='binary_crossentropy',optimizer='adam',metrics=['accuracy'])"
   ]
  },
  {
   "cell_type": "code",
   "execution_count": 24,
   "metadata": {
    "execution": {
     "iopub.execute_input": "2021-02-13T09:10:16.770118Z",
     "iopub.status.busy": "2021-02-13T09:10:16.769440Z",
     "iopub.status.idle": "2021-02-13T09:10:36.873690Z",
     "shell.execute_reply": "2021-02-13T09:10:36.874570Z"
    },
    "papermill": {
     "duration": 20.155491,
     "end_time": "2021-02-13T09:10:36.874826",
     "exception": false,
     "start_time": "2021-02-13T09:10:16.719335",
     "status": "completed"
    },
    "tags": []
   },
   "outputs": [
    {
     "name": "stdout",
     "output_type": "stream",
     "text": [
      "Epoch 1/5\n",
      "72/72 [==============================] - 9s 54ms/step - loss: 0.4949 - accuracy: 0.7937 - val_loss: 0.0969 - val_accuracy: 0.9737\n",
      "Epoch 2/5\n",
      "72/72 [==============================] - 3s 42ms/step - loss: 0.0431 - accuracy: 0.9938 - val_loss: 0.0587 - val_accuracy: 0.9816\n",
      "Epoch 3/5\n",
      "72/72 [==============================] - 3s 37ms/step - loss: 0.0129 - accuracy: 0.9977 - val_loss: 0.0539 - val_accuracy: 0.9833\n",
      "Epoch 4/5\n",
      "72/72 [==============================] - 3s 37ms/step - loss: 0.0041 - accuracy: 1.0000 - val_loss: 0.0562 - val_accuracy: 0.9860\n",
      "Epoch 5/5\n",
      "72/72 [==============================] - 3s 38ms/step - loss: 0.0022 - accuracy: 1.0000 - val_loss: 0.0533 - val_accuracy: 0.9868\n"
     ]
    },
    {
     "data": {
      "text/plain": [
       "<tensorflow.python.keras.callbacks.History at 0x7f91dc18f350>"
      ]
     },
     "execution_count": 24,
     "metadata": {},
     "output_type": "execute_result"
    }
   ],
   "source": [
    "model.fit(X_train,y_train,validation_data=(X_test,y_test),epochs=5,batch_size=64)"
   ]
  },
  {
   "cell_type": "markdown",
   "metadata": {
    "papermill": {
     "duration": 0.147921,
     "end_time": "2021-02-13T09:10:37.168130",
     "exception": false,
     "start_time": "2021-02-13T09:10:37.020209",
     "status": "completed"
    },
    "tags": []
   },
   "source": [
    "## Model Evaluation"
   ]
  },
  {
   "cell_type": "code",
   "execution_count": 25,
   "metadata": {
    "execution": {
     "iopub.execute_input": "2021-02-13T09:10:37.417610Z",
     "iopub.status.busy": "2021-02-13T09:10:37.416777Z",
     "iopub.status.idle": "2021-02-13T09:10:38.236739Z",
     "shell.execute_reply": "2021-02-13T09:10:38.236227Z"
    },
    "papermill": {
     "duration": 0.933213,
     "end_time": "2021-02-13T09:10:38.236875",
     "exception": false,
     "start_time": "2021-02-13T09:10:37.303662",
     "status": "completed"
    },
    "tags": []
   },
   "outputs": [
    {
     "name": "stdout",
     "output_type": "stream",
     "text": [
      "Test loss: 0.053266752511262894\n",
      "Test accuracy: 0.9868305325508118\n",
      "confusion matrix:\n",
      " [[861  10]\n",
      " [  5 263]]\n"
     ]
    }
   ],
   "source": [
    "scores = model.evaluate(X_test, y_test, verbose=0)\n",
    "y_pred = model.predict_classes(X_test)\n",
    "\n",
    "print('Test loss:', scores[0])\n",
    "print('Test accuracy:', scores[1])\n",
    "print('confusion matrix:\\n', confusion_matrix(y_pred,y_test))"
   ]
  },
  {
   "cell_type": "markdown",
   "metadata": {
    "papermill": {
     "duration": 0.111889,
     "end_time": "2021-02-13T09:10:38.456906",
     "exception": false,
     "start_time": "2021-02-13T09:10:38.345017",
     "status": "completed"
    },
    "tags": []
   },
   "source": [
    "## So we can see that a simple LSTM model gives an accuracy of 0.98 whereas best ML model had just 0.89."
   ]
  },
  {
   "cell_type": "markdown",
   "metadata": {
    "papermill": {
     "duration": 0.104536,
     "end_time": "2021-02-13T09:10:38.664823",
     "exception": false,
     "start_time": "2021-02-13T09:10:38.560287",
     "status": "completed"
    },
    "tags": []
   },
   "source": [
    "## So finally we have our machine ready....You feed the message and it will tell you whether its a SPAM or HAM\n",
    "\n",
    "<img src=\"https://digitalmarketingbypsk.files.wordpress.com/2017/05/21.gif\" style=\"width:30%; float:center;\">\n"
   ]
  },
  {
   "cell_type": "markdown",
   "metadata": {
    "papermill": {
     "duration": 0.10334,
     "end_time": "2021-02-13T09:10:38.876874",
     "exception": false,
     "start_time": "2021-02-13T09:10:38.773534",
     "status": "completed"
    },
    "tags": []
   },
   "source": [
    "## Thank You........"
   ]
  },
  {
   "cell_type": "code",
   "execution_count": null,
   "metadata": {
    "papermill": {
     "duration": 0.103347,
     "end_time": "2021-02-13T09:10:39.087672",
     "exception": false,
     "start_time": "2021-02-13T09:10:38.984325",
     "status": "completed"
    },
    "tags": []
   },
   "outputs": [],
   "source": []
  }
 ],
 "metadata": {
  "kernelspec": {
   "display_name": "Python 3",
   "language": "python",
   "name": "python3"
  },
  "language_info": {
   "codemirror_mode": {
    "name": "ipython",
    "version": 3
   },
   "file_extension": ".py",
   "mimetype": "text/x-python",
   "name": "python",
   "nbconvert_exporter": "python",
   "pygments_lexer": "ipython3",
   "version": "3.7.9"
  },
  "papermill": {
   "default_parameters": {},
   "duration": 686.074987,
   "end_time": "2021-02-13T09:10:43.376544",
   "environment_variables": {},
   "exception": null,
   "input_path": "__notebook__.ipynb",
   "output_path": "__notebook__.ipynb",
   "parameters": {},
   "start_time": "2021-02-13T08:59:17.301557",
   "version": "2.2.2"
  }
 },
 "nbformat": 4,
 "nbformat_minor": 4
}
